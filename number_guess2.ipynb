{
 "cells": [
  {
   "cell_type": "code",
   "execution_count": 1,
   "id": "3ba80399",
   "metadata": {},
   "outputs": [],
   "source": [
    "%load_ext autoreload\n",
    "%autoreload 2"
   ]
  },
  {
   "cell_type": "code",
   "execution_count": 2,
   "id": "4b59041b",
   "metadata": {},
   "outputs": [],
   "source": [
    "import numpy as np"
   ]
  },
  {
   "cell_type": "code",
   "execution_count": 4,
   "id": "b1a3efe2",
   "metadata": {},
   "outputs": [],
   "source": [
    "from number_guess_environment import NumberGuess2"
   ]
  },
  {
   "cell_type": "code",
   "execution_count": 26,
   "id": "9d8e3fa4",
   "metadata": {
    "scrolled": true
   },
   "outputs": [],
   "source": [
    "env = NumberGuess2()"
   ]
  },
  {
   "cell_type": "markdown",
   "id": "2356a310",
   "metadata": {},
   "source": [
    "## Explore Environment"
   ]
  },
  {
   "cell_type": "code",
   "execution_count": 28,
   "id": "bee6166d",
   "metadata": {},
   "outputs": [
    {
     "name": "stdout",
     "output_type": "stream",
     "text": [
      "Random valid answer number: 58707\n",
      "Random valid guess number: 0\n",
      "\n",
      "The observation states:\n",
      " [[-1 -1 -1 ...  0  0  0]\n",
      " [-1 -1 -1 ...  0  0  1]\n",
      " [-1 -1 -1 ...  0  1  0]\n",
      " ...\n",
      " [ 4  3  2 ...  1  0  1]\n",
      " [ 4  3  2 ...  1  1  0]\n",
      " [ 4  3  2 ...  1  1  1]]\n",
      "\n",
      "A given state in the observation states:\n",
      "[ 3  1 -1 -1 -1  0  0  0  0  1]\n",
      "Here, the first two hidden numbers have been guessed (3, 1).\n",
      "And for this third hidden number, only 4 has been guessed, and it was not correct.\n",
      "\n",
      "Locate this given state (its index/row) in the whole set of observation states:\n",
      "6817\n",
      "There is a 1-to-1 map between the state and its index/row.\n",
      "\n",
      "A few random games:\n",
      "Episode:1 Score:-6 NGuesses:16\n",
      "Episode:2 Score:-49 NGuesses:59\n",
      "Episode:3 Score:-19 NGuesses:29\n",
      "Episode:4 Score:-11 NGuesses:21\n",
      "Episode:5 Score:-7 NGuesses:17\n",
      "Episode:6 Score:-14 NGuesses:24\n",
      "Episode:7 Score:-4 NGuesses:14\n",
      "Episode:8 Score:-10 NGuesses:20\n",
      "Episode:9 Score:-12 NGuesses:22\n",
      "Episode:10 Score:-18 NGuesses:28\n",
      "NumberGuess::reset: hidden answer list: [0, 2, 1, 3, 4]\n",
      "{'answer0': -1, 'answer1': -1, 'answer2': -1, 'answer3': -1, 'answer4': -1, 'guess0': 0, 'guess1': 0, 'guess2': 0, 'guess3': 0, 'guess4': 0, 'current_position': 0}\n",
      "0\n",
      "guessing 3...result is...\n",
      "{'answer0': -1, 'answer1': -1, 'answer2': -1, 'answer3': -1, 'answer4': -1, 'guess0': 0, 'guess1': 0, 'guess2': 0, 'guess3': 1, 'guess4': 0, 'current_position': 0}\n",
      "guessing 2...result is...\n",
      "{'answer0': -1, 'answer1': -1, 'answer2': -1, 'answer3': -1, 'answer4': -1, 'guess0': 0, 'guess1': 0, 'guess2': 1, 'guess3': 1, 'guess4': 0, 'current_position': 0}\n",
      "current status, visualized differently:\n",
      "[-1 -1 -1 -1 -1  0  0  1  1  0]\n"
     ]
    }
   ],
   "source": [
    "print(\"Random valid answer number:\", env.observation_space.sample())\n",
    "print(\"Random valid guess number:\", env.action_space.sample())\n",
    "print(\"\\nThe observation states:\\n\", env.observation_states)\n",
    "\n",
    "r = np.array([3, 1, -1, -1, -1,  0,  0,  0,  0,  1])\n",
    "print(\"\\nA given state in the observation states:\")\n",
    "print(r)\n",
    "print(\"Here, the first two hidden numbers have been guessed (3, 1).\\n\"\n",
    "      \"And for this third hidden number, only 4 has been guessed,\"\n",
    "      \" and it was not correct.\")\n",
    "\n",
    "print(\"\\nLocate this given state (its index/row) in the whole set of observation states:\")\n",
    "r_idx = np.where((env.observation_states == r).all(axis=1))[0][0]\n",
    "print(r_idx)\n",
    "print(\"There is a 1-to-1 map between the state and its index/row.\")\n",
    "assert env.get_state_from_array(r) == r_idx\n",
    "assert np.array_equal(env.observation_states[4321], env.get_array_from_state(4321))\n",
    "\n",
    "print(\"\\nA few random games:\")\n",
    "episodes = 10\n",
    "for episode in range(1, episodes+1):\n",
    "    state = env.reset()\n",
    "    done = False\n",
    "    score = 0\n",
    "    n_guesses = 0\n",
    "    while not done:\n",
    "        n_guesses += 1\n",
    "        action = env.action_space.sample()\n",
    "        n_state, reward, done, info = env.step(action)\n",
    "        score+=reward\n",
    "    print(f'Episode:{episode} Score:{score} NGuesses:{n_guesses}')\n",
    "    \n",
    "env.be_verbose = True\n",
    "env.reset()\n",
    "print(env.get_dict_from_state())\n",
    "print(env.state)\n",
    "j = env.get_dict_from_state()[\"current_position\"]\n",
    "print(\"guessing 3...result is...\")\n",
    "print(env.get_dict_from_state(env.update_state(3)))\n",
    "print(\"guessing 2...result is...\")\n",
    "print(env.get_dict_from_state(env.update_state(2)))\n",
    "print(\"current status, visualized differently:\")\n",
    "print(env.get_array_from_state())"
   ]
  },
  {
   "cell_type": "markdown",
   "id": "74b48955",
   "metadata": {},
   "source": [
    "## Train-Test"
   ]
  },
  {
   "cell_type": "code",
   "execution_count": 19,
   "id": "2a4f25c8",
   "metadata": {},
   "outputs": [],
   "source": [
    "from q_learning_utils import train_test, default_params, update_q_table"
   ]
  },
  {
   "cell_type": "code",
   "execution_count": 35,
   "id": "83cbe572",
   "metadata": {},
   "outputs": [
    {
     "name": "stdout",
     "output_type": "stream",
     "text": [
      "521600\n"
     ]
    }
   ],
   "source": [
    "# initial q table full of zeroes -- 500000 entries\n",
    "init_q_table = np.zeros([env.observation_space.n, env.action_space.n])\n",
    "print(init_q_table.size)"
   ]
  },
  {
   "cell_type": "code",
   "execution_count": 32,
   "id": "34ae4bd0",
   "metadata": {},
   "outputs": [
    {
     "name": "stdout",
     "output_type": "stream",
     "text": [
      "average reward: -15.98762\n"
     ]
    }
   ],
   "source": [
    "# Train\n",
    "env = NumberGuess2(False)\n",
    "q_table, avg_reward = train_test(env, init_q_table, n_episodes = 100000, do_train = True)\n",
    "print(f\"average reward: {avg_reward}\")"
   ]
  },
  {
   "cell_type": "code",
   "execution_count": 33,
   "id": "f01c9193",
   "metadata": {
    "scrolled": true
   },
   "outputs": [
    {
     "data": {
      "text/plain": [
       "array([[1.68067902, 2.57732359, 2.54561801, 1.69140438, 3.94931937],\n",
       "       [3.4672871 , 2.85705787, 1.75406698, 2.04974363, 1.82334799],\n",
       "       [1.87329896, 2.69024635, 2.41934679, 1.69024731, 1.62169705],\n",
       "       ...,\n",
       "       [0.        , 0.        , 0.        , 0.        , 0.        ],\n",
       "       [0.        , 0.        , 0.        , 0.        , 0.        ],\n",
       "       [0.        , 0.        , 0.        , 0.        , 0.        ]])"
      ]
     },
     "execution_count": 33,
     "metadata": {},
     "output_type": "execute_result"
    }
   ],
   "source": [
    "q_table"
   ]
  },
  {
   "cell_type": "code",
   "execution_count": 34,
   "id": "96c3091c",
   "metadata": {},
   "outputs": [
    {
     "name": "stdout",
     "output_type": "stream",
     "text": [
      "average reward: -9.46\n",
      "average reward: -7.16\n",
      "average reward: -7.94\n"
     ]
    }
   ],
   "source": [
    "# Test\n",
    "avg_reward = train_test(env, q_table, n_episodes = 100, do_train = False)[1]\n",
    "print(f\"average reward: {avg_reward}\")\n",
    "avg_reward = train_test(env, q_table, n_episodes = 100, do_train = False)[1]\n",
    "print(f\"average reward: {avg_reward}\")\n",
    "avg_reward = train_test(env, q_table, n_episodes = 100, do_train = False)[1]\n",
    "print(f\"average reward: {avg_reward}\")"
   ]
  },
  {
   "cell_type": "code",
   "execution_count": 36,
   "id": "f53fa505",
   "metadata": {},
   "outputs": [],
   "source": [
    "np.savetxt(\"qtable_100k_ep.csv\", q_table, delimiter=\",\")"
   ]
  },
  {
   "cell_type": "markdown",
   "id": "a8175c7b",
   "metadata": {},
   "source": [
    "With 10,000 training episodes, we don't outperform random guessing, but with a 100k, we do outperform random guessing!\n",
    "\n",
    "100,000 training episodes:\n",
    "average reward: -9.46\n",
    "average reward: -7.16\n",
    "average reward: -7.94\n",
    "\n",
    "Compared with -15-ish for random guessing"
   ]
  },
  {
   "cell_type": "code",
   "execution_count": 38,
   "id": "1e0873a2",
   "metadata": {},
   "outputs": [],
   "source": [
    "env.be_verbose = True"
   ]
  },
  {
   "cell_type": "code",
   "execution_count": 45,
   "id": "5f44ad1f",
   "metadata": {},
   "outputs": [
    {
     "name": "stdout",
     "output_type": "stream",
     "text": [
      "NumberGuess::reset: hidden answer list: [2, 0, 4, 1, 3]\n",
      "current position: 0/4 | guess:4 | correct answer:2\n",
      "current position: 0/4 | guess:0 | correct answer:2\n",
      "current position: 0/4 | guess:3 | correct answer:2\n",
      "current position: 0/4 | guess:2 | correct answer:2\n",
      "current position: 1/4 | guess:4 | correct answer:0\n",
      "current position: 1/4 | guess:1 | correct answer:0\n",
      "current position: 1/4 | guess:0 | correct answer:0\n",
      "current position: 2/4 | guess:4 | correct answer:4\n",
      "current position: 3/4 | guess:3 | correct answer:1\n",
      "current position: 3/4 | guess:1 | correct answer:1\n",
      "current position: 4/4 | guess:3 | correct answer:3\n",
      "NumberGuess::reset: hidden answer list: [3, 0, 2, 1, 4]\n",
      "current position: 0/4 | guess:4 | correct answer:3\n",
      "current position: 0/4 | guess:0 | correct answer:3\n",
      "current position: 0/4 | guess:3 | correct answer:3\n",
      "current position: 1/4 | guess:4 | correct answer:0\n",
      "current position: 1/4 | guess:3 | correct answer:0\n",
      "current position: 1/4 | guess:2 | correct answer:0\n",
      "current position: 1/4 | guess:1 | correct answer:0\n",
      "current position: 1/4 | guess:0 | correct answer:0\n",
      "current position: 2/4 | guess:2 | correct answer:2\n",
      "current position: 3/4 | guess:4 | correct answer:1\n",
      "current position: 3/4 | guess:1 | correct answer:1\n",
      "current position: 4/4 | guess:4 | correct answer:4\n",
      "NumberGuess::reset: hidden answer list: [2, 3, 1, 4, 0]\n",
      "current position: 0/4 | guess:4 | correct answer:2\n",
      "current position: 0/4 | guess:0 | correct answer:2\n",
      "current position: 0/4 | guess:3 | correct answer:2\n",
      "current position: 0/4 | guess:2 | correct answer:2\n",
      "current position: 1/4 | guess:4 | correct answer:3\n",
      "current position: 1/4 | guess:1 | correct answer:3\n",
      "current position: 1/4 | guess:0 | correct answer:3\n",
      "current position: 1/4 | guess:0 | correct answer:3\n",
      "current position: 1/4 | guess:0 | correct answer:3\n",
      "current position: 1/4 | guess:0 | correct answer:3\n",
      "current position: 1/4 | guess:0 | correct answer:3\n",
      "current position: 1/4 | guess:0 | correct answer:3\n",
      "current position: 1/4 | guess:0 | correct answer:3\n",
      "current position: 1/4 | guess:0 | correct answer:3\n",
      "current position: 1/4 | guess:0 | correct answer:3\n",
      "current position: 1/4 | guess:0 | correct answer:3\n",
      "current position: 1/4 | guess:0 | correct answer:3\n",
      "current position: 1/4 | guess:0 | correct answer:3\n",
      "current position: 1/4 | guess:0 | correct answer:3\n",
      "current position: 1/4 | guess:0 | correct answer:3\n",
      "current position: 1/4 | guess:0 | correct answer:3\n",
      "current position: 1/4 | guess:0 | correct answer:3\n",
      "current position: 1/4 | guess:4 | correct answer:3\n",
      "current position: 1/4 | guess:3 | correct answer:3\n",
      "current position: 2/4 | guess:2 | correct answer:1\n",
      "current position: 2/4 | guess:2 | correct answer:1\n",
      "current position: 2/4 | guess:3 | correct answer:1\n",
      "current position: 2/4 | guess:1 | correct answer:1\n",
      "current position: 3/4 | guess:1 | correct answer:4\n",
      "current position: 3/4 | guess:1 | correct answer:4\n",
      "current position: 3/4 | guess:1 | correct answer:4\n",
      "current position: 3/4 | guess:3 | correct answer:4\n",
      "current position: 3/4 | guess:1 | correct answer:4\n",
      "current position: 3/4 | guess:1 | correct answer:4\n",
      "current position: 3/4 | guess:1 | correct answer:4\n",
      "current position: 3/4 | guess:4 | correct answer:4\n",
      "current position: 4/4 | guess:3 | correct answer:0\n",
      "current position: 4/4 | guess:3 | correct answer:0\n",
      "current position: 4/4 | guess:1 | correct answer:0\n",
      "current position: 4/4 | guess:1 | correct answer:0\n",
      "current position: 4/4 | guess:1 | correct answer:0\n",
      "current position: 4/4 | guess:2 | correct answer:0\n",
      "current position: 4/4 | guess:0 | correct answer:0\n"
     ]
    },
    {
     "data": {
      "text/plain": [
       "-13.0"
      ]
     },
     "execution_count": 45,
     "metadata": {},
     "output_type": "execute_result"
    }
   ],
   "source": [
    "train_test(env, q_table, n_episodes = 3, do_train = False)[1]"
   ]
  },
  {
   "cell_type": "markdown",
   "id": "db942c81",
   "metadata": {},
   "source": [
    "Examining a few games:\n",
    "\n",
    "Game 1:\n",
    "```\n",
    "NumberGuess::reset: hidden answer list: [3, 0, 2, 1, 4]\n",
    "current position: 0/4 | guess:4 | correct answer:3\n",
    "current position: 0/4 | guess:0 | correct answer:3\n",
    "current position: 0/4 | guess:3 | correct answer:3\n",
    "current position: 1/4 | guess:4 | correct answer:0\n",
    "current position: 1/4 | guess:3 | correct answer:0 <-- Blunder, 3 already an answer\n",
    "current position: 1/4 | guess:2 | correct answer:0\n",
    "current position: 1/4 | guess:1 | correct answer:0\n",
    "current position: 1/4 | guess:0 | correct answer:0\n",
    "current position: 2/4 | guess:2 | correct answer:2\n",
    "current position: 3/4 | guess:4 | correct answer:1\n",
    "current position: 3/4 | guess:1 | correct answer:1\n",
    "current position: 4/4 | guess:4 | correct answer:4\n",
    "```\n",
    "\n",
    "Game 2:\n",
    "```\n",
    "NumberGuess::reset: hidden answer list: [2, 3, 1, 4, 0]\n",
    "current position: 0/4 | guess:4 | correct answer:2\n",
    "current position: 0/4 | guess:0 | correct answer:2\n",
    "current position: 0/4 | guess:3 | correct answer:2\n",
    "current position: 0/4 | guess:2 | correct answer:2 <-- A fine start.\n",
    "current position: 1/4 | guess:4 | correct answer:3\n",
    "current position: 1/4 | guess:1 | correct answer:3 <-- Uh oh. We go off the rails.\n",
    "current position: 1/4 | guess:0 | correct answer:3\n",
    "current position: 1/4 | guess:0 | correct answer:3\n",
    "current position: 1/4 | guess:0 | correct answer:3\n",
    "current position: 1/4 | guess:0 | correct answer:3\n",
    "current position: 1/4 | guess:0 | correct answer:3\n",
    "current position: 1/4 | guess:0 | correct answer:3\n",
    "current position: 1/4 | guess:0 | correct answer:3\n",
    "current position: 1/4 | guess:0 | correct answer:3\n",
    "current position: 1/4 | guess:0 | correct answer:3\n",
    "current position: 1/4 | guess:0 | correct answer:3\n",
    "current position: 1/4 | guess:0 | correct answer:3\n",
    "current position: 1/4 | guess:0 | correct answer:3\n",
    "current position: 1/4 | guess:0 | correct answer:3\n",
    "current position: 1/4 | guess:0 | correct answer:3\n",
    "current position: 1/4 | guess:0 | correct answer:3\n",
    "current position: 1/4 | guess:0 | correct answer:3 <-- Recovered, probably by random exploration\n",
    "current position: 1/4 | guess:4 | correct answer:3\n",
    "current position: 1/4 | guess:3 | correct answer:3\n",
    "current position: 2/4 | guess:2 | correct answer:1\n",
    "current position: 2/4 | guess:2 | correct answer:1 <-- A (mere) localized blunder?\n",
    "current position: 2/4 | guess:3 | correct answer:1 <-- Back on track?\n",
    "current position: 2/4 | guess:1 | correct answer:1\n",
    "current position: 3/4 | guess:1 | correct answer:4 <-- Bad from here down, worse than random guessing. \n",
    "current position: 3/4 | guess:1 | correct answer:4     Is it avoiding 0?\n",
    "current position: 3/4 | guess:1 | correct answer:4\n",
    "current position: 3/4 | guess:3 | correct answer:4\n",
    "current position: 3/4 | guess:1 | correct answer:4\n",
    "current position: 3/4 | guess:1 | correct answer:4\n",
    "current position: 3/4 | guess:1 | correct answer:4\n",
    "current position: 3/4 | guess:4 | correct answer:4\n",
    "current position: 4/4 | guess:3 | correct answer:0\n",
    "current position: 4/4 | guess:3 | correct answer:0\n",
    "current position: 4/4 | guess:1 | correct answer:0\n",
    "current position: 4/4 | guess:1 | correct answer:0\n",
    "current position: 4/4 | guess:1 | correct answer:0\n",
    "current position: 4/4 | guess:2 | correct answer:0\n",
    "current position: 4/4 | guess:0 | correct answer:0\n",
    "```\n",
    "\n",
    "Clearly we have some rabbit holes in the q-table.\n",
    "\n",
    "First thought: seems like more training would fill in these holes. But it already took 5 minutes to train 1M episodes.\n",
    "\n",
    "Second thought: so easy to see how we could assist it by restricting the q-table and being \"smarter\" about training. But that's not the point is it! The optimization is clear: the \n",
    "\n",
    "Let's start by having it switch to random guess earlier."
   ]
  },
  {
   "cell_type": "markdown",
   "id": "75b2fcc7",
   "metadata": {},
   "source": [
    "Switched it to guess randomly after 5 guesses for a single hidden number"
   ]
  },
  {
   "cell_type": "code",
   "execution_count": 58,
   "id": "ac4fba58",
   "metadata": {},
   "outputs": [
    {
     "name": "stdout",
     "output_type": "stream",
     "text": [
      "-5.16\n",
      "-5.75\n",
      "-6.51\n",
      "-5.64\n",
      "-5.98\n"
     ]
    }
   ],
   "source": [
    "env.be_verbose = False\n",
    "print(train_test(env, q_table, n_episodes = 100, do_train = False)[1])\n",
    "print(train_test(env, q_table, n_episodes = 100, do_train = False)[1])\n",
    "print(train_test(env, q_table, n_episodes = 100, do_train = False)[1])\n",
    "print(train_test(env, q_table, n_episodes = 100, do_train = False)[1])\n",
    "print(train_test(env, q_table, n_episodes = 100, do_train = False)[1])"
   ]
  },
  {
   "cell_type": "markdown",
   "id": "01b9fe6d",
   "metadata": {},
   "source": [
    "Clearly better than only switching to random guesses after the score has gotten very bad."
   ]
  },
  {
   "cell_type": "markdown",
   "id": "6e4f3fea",
   "metadata": {},
   "source": [
    "I've been avoiding it, but no more: we need to train more. At least to learn if training here is the limitation, and I suspect it is. The observation space is just too big."
   ]
  },
  {
   "cell_type": "code",
   "execution_count": 59,
   "id": "6e86b8bd",
   "metadata": {},
   "outputs": [],
   "source": [
    "# Let's go to 1M training episodes!\n",
    "env = NumberGuess2(False)\n",
    "init_q_table = np.zeros([env.observation_space.n, env.action_space.n])\n",
    "q_table, avg_reward = train_test(env, init_q_table, n_episodes = 1_000_000, do_train = True)\n",
    "np.savetxt(\"qtable_1M_ep.csv\", q_table, delimiter=\",\")"
   ]
  },
  {
   "cell_type": "markdown",
   "id": "674739fd",
   "metadata": {},
   "source": [
    "This took about 2 hours"
   ]
  },
  {
   "cell_type": "code",
   "execution_count": 60,
   "id": "352cee26",
   "metadata": {},
   "outputs": [
    {
     "data": {
      "text/plain": [
       "array([[1.85611052, 2.66806927, 2.05253676, 2.00784239, 3.68050107],\n",
       "       [1.90868957, 1.87984946, 3.77498962, 2.56256128, 2.68705413],\n",
       "       [2.78960193, 2.68353916, 3.62283225, 2.61005441, 2.70097519],\n",
       "       ...,\n",
       "       [0.        , 0.        , 0.        , 0.        , 0.        ],\n",
       "       [0.        , 0.        , 0.        , 0.        , 0.        ],\n",
       "       [0.        , 0.        , 0.        , 0.        , 0.        ]])"
      ]
     },
     "execution_count": 60,
     "metadata": {},
     "output_type": "execute_result"
    }
   ],
   "source": [
    "q_table"
   ]
  },
  {
   "cell_type": "code",
   "execution_count": 64,
   "id": "b2864483",
   "metadata": {},
   "outputs": [
    {
     "name": "stdout",
     "output_type": "stream",
     "text": [
      "-4.15\n",
      "-5.1\n",
      "-4.66\n",
      "-5.13\n",
      "-4.02\n"
     ]
    }
   ],
   "source": [
    "print(train_test(env, q_table, n_episodes = 100, do_train = False)[1])\n",
    "print(train_test(env, q_table, n_episodes = 100, do_train = False)[1])\n",
    "print(train_test(env, q_table, n_episodes = 100, do_train = False)[1])\n",
    "print(train_test(env, q_table, n_episodes = 100, do_train = False)[1])\n",
    "print(train_test(env, q_table, n_episodes = 100, do_train = False)[1])"
   ]
  },
  {
   "cell_type": "markdown",
   "id": "d4fb214a",
   "metadata": {},
   "source": [
    "Hmm maybe only slightly better than 100k training."
   ]
  },
  {
   "cell_type": "code",
   "execution_count": null,
   "id": "30b40438",
   "metadata": {},
   "outputs": [],
   "source": [
    "env.be_verbose = \n",
    "train_test(env, q_table, n_episodes = 3, do_train = False)[1]"
   ]
  }
 ],
 "metadata": {
  "kernelspec": {
   "display_name": "Python 3 (ipykernel)",
   "language": "python",
   "name": "python3"
  },
  "language_info": {
   "codemirror_mode": {
    "name": "ipython",
    "version": 3
   },
   "file_extension": ".py",
   "mimetype": "text/x-python",
   "name": "python",
   "nbconvert_exporter": "python",
   "pygments_lexer": "ipython3",
   "version": "3.10.8"
  }
 },
 "nbformat": 4,
 "nbformat_minor": 5
}
