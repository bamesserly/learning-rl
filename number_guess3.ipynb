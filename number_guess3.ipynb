{
 "cells": [
  {
   "cell_type": "code",
   "execution_count": 1,
   "id": "3ba80399",
   "metadata": {},
   "outputs": [],
   "source": [
    "%load_ext autoreload\n",
    "%autoreload 2"
   ]
  },
  {
   "cell_type": "code",
   "execution_count": 2,
   "id": "4b59041b",
   "metadata": {},
   "outputs": [],
   "source": [
    "import numpy as np"
   ]
  },
  {
   "cell_type": "code",
   "execution_count": 108,
   "id": "b1a3efe2",
   "metadata": {},
   "outputs": [],
   "source": [
    "from number_guess_environment import NumberGuess3"
   ]
  },
  {
   "cell_type": "code",
   "execution_count": 111,
   "id": "9d8e3fa4",
   "metadata": {
    "scrolled": true
   },
   "outputs": [],
   "source": [
    "env = NumberGuess3()"
   ]
  },
  {
   "cell_type": "markdown",
   "id": "a9b4be6a",
   "metadata": {},
   "source": [
    "## Explore Environment"
   ]
  },
  {
   "cell_type": "code",
   "execution_count": 114,
   "id": "bee6166d",
   "metadata": {},
   "outputs": [
    {
     "name": "stdout",
     "output_type": "stream",
     "text": [
      "Random valid answer number: 376\n",
      "Random valid guess number: 2\n",
      "\n",
      "Number of entries in observation space X action space 5120\n",
      "\n",
      "The observation states:\n",
      " [[-1 -1 -1 ...  0  0  0]\n",
      " [-1 -1 -1 ...  0  0  1]\n",
      " [-1 -1 -1 ...  0  1  0]\n",
      " ...\n",
      " [ 0  1  2 ...  1  0  1]\n",
      " [ 0  1  2 ...  1  1  0]\n",
      " [ 0  1  2 ...  1  1  1]]\n",
      "\n",
      "A given state in the observation states:\n",
      "[0 1 2 3 4 0 0 0 0 1]\n",
      "Here, the first two hidden numbers have been guessed (1, 3).\n",
      "And for this third hidden number, only 4 has been guessed, and it was not correct.\n",
      "\n",
      "Locate this given state (its index/row) in the whole set of observation states:\n",
      "993\n",
      "There is a 1-to-1 map between the state and its index/row.\n",
      "Checking the mapping function: True\n",
      "Checking the mapping function again: True\n",
      "{'answer0': 0, 'answer1': 1, 'answer2': 2, 'answer3': 3, 'answer4': 4, 'guess0': 0, 'guess1': 0, 'guess2': 0, 'guess3': 0, 'guess4': 1, 'current_position': 4}\n",
      "\n",
      "New Game\n",
      "NumberGuess::reset: hidden answer list: [4, 0, 3, 2, 1]\n",
      "Current state: ( 0 ) {'answer0': -1, 'answer1': -1, 'answer2': -1, 'answer3': -1, 'answer4': -1, 'guess0': 0, 'guess1': 0, 'guess2': 0, 'guess3': 0, 'guess4': 0, 'current_position': 0}\n",
      "Guessing 3...result is...\n",
      "current position: 0/4 | guess:3 | correct answer:4\n",
      "{'answer0': -1, 'answer1': -1, 'answer2': -1, 'answer3': -1, 'answer4': -1, 'guess0': 0, 'guess1': 0, 'guess2': 0, 'guess3': 1, 'guess4': 0, 'current_position': 0}\n"
     ]
    }
   ],
   "source": [
    "print(\"Random valid answer number:\", env.observation_space.sample())\n",
    "print(\"Random valid guess number:\", env.action_space.sample())\n",
    "print(\"\\nNumber of entries in observation space X action space\",env.observation_space.n*env.action_space.n )\n",
    "print(\"\\nThe observation states:\\n\", env.observation_states)\n",
    "\n",
    "\n",
    "r = np.array([0, 1, 2, 3, 4,  0,  0,  0,  0,  1])\n",
    "print(\"\\nA given state in the observation states:\")\n",
    "print(r)\n",
    "print(\"Here, the first two hidden numbers have been guessed (1, 3).\\n\"\n",
    "      \"And for this third hidden number, only 4 has been guessed,\"\n",
    "      \" and it was not correct.\")\n",
    "\n",
    "print(\"\\nLocate this given state (its index/row) in the whole set of observation states:\")\n",
    "r_idx = np.where((env.observation_states == r).all(axis=1))[0][0]\n",
    "print(r_idx)\n",
    "print(\"There is a 1-to-1 map between the state and its index/row.\")\n",
    "print(\"Checking the mapping function:\", env.get_state_from_array(r) == r_idx)\n",
    "print(\"Checking the mapping function again:\", \n",
    "      np.array_equal(env.observation_states[r_idx], env.get_array_from_state(r_idx))\n",
    "     )\n",
    "\n",
    "print(env.get_dict_from_state(r_idx))\n",
    "\n",
    "print(\"\\nNew Game\")\n",
    "\n",
    "env.be_verbose = True\n",
    "env.reset()\n",
    "print(\"Current state: (\", env.state,\")\", env.get_dict_from_state())\n",
    "print(\"Guessing 3...result is...\")\n",
    "print(env.get_dict_from_state(env.step(3)[0]))"
   ]
  },
  {
   "cell_type": "code",
   "execution_count": 115,
   "id": "9169a0b3",
   "metadata": {},
   "outputs": [
    {
     "name": "stdout",
     "output_type": "stream",
     "text": [
      "\n",
      "A few random games:\n",
      "Episode:1 Score:-9 NGuesses:17\n",
      "Episode:2 Score:-16 NGuesses:24\n",
      "Episode:3 Score:-7 NGuesses:15\n",
      "Episode:4 Score:0 NGuesses:8\n",
      "Episode:5 Score:-16 NGuesses:24\n",
      "Episode:6 Score:-20 NGuesses:28\n",
      "Episode:7 Score:-6 NGuesses:14\n",
      "Episode:8 Score:-18 NGuesses:26\n",
      "Episode:9 Score:-12 NGuesses:20\n",
      "Episode:10 Score:-20 NGuesses:28\n"
     ]
    }
   ],
   "source": [
    "env.be_verbose = False\n",
    "print(\"\\nA few random games:\")\n",
    "episodes = 10\n",
    "for episode in range(1, episodes+1):\n",
    "    state = env.reset()\n",
    "    done = False\n",
    "    score = 0\n",
    "    n_guesses = 0\n",
    "    while not done:\n",
    "        n_guesses += 1\n",
    "        action = env.action_space.sample()\n",
    "        n_state, reward, done, info = env.step(action)\n",
    "        score+=reward\n",
    "    print(f'Episode:{episode} Score:{score} NGuesses:{n_guesses}')"
   ]
  },
  {
   "cell_type": "markdown",
   "id": "9ba9a91f",
   "metadata": {},
   "source": [
    "## Train-Test"
   ]
  },
  {
   "cell_type": "code",
   "execution_count": 118,
   "id": "d887f7a6",
   "metadata": {},
   "outputs": [],
   "source": [
    "from q_learning_utils import train_test, default_params, update_q_table"
   ]
  },
  {
   "cell_type": "code",
   "execution_count": 176,
   "id": "6109a510",
   "metadata": {},
   "outputs": [
    {
     "name": "stdout",
     "output_type": "stream",
     "text": [
      "(1024, 5)\n"
     ]
    }
   ],
   "source": [
    "# initial q table full of zeroes -- 32*32*5 = 5120 entries\n",
    "init_q_table = np.zeros([env.observation_space.n, env.action_space.n])\n",
    "print(init_q_table.shape)"
   ]
  },
  {
   "cell_type": "code",
   "execution_count": 192,
   "id": "a0d3d5a8",
   "metadata": {},
   "outputs": [
    {
     "name": "stdout",
     "output_type": "stream",
     "text": [
      "average reward: -15.8929\n"
     ]
    }
   ],
   "source": [
    "# Train\n",
    "env = NumberGuess3(False)\n",
    "q_table, avg_reward = train_test(env, init_q_table, n_episodes = 10000, do_train = True)\n",
    "print(f\"average reward: {avg_reward}\")"
   ]
  },
  {
   "cell_type": "code",
   "execution_count": 193,
   "id": "2414c232",
   "metadata": {},
   "outputs": [],
   "source": [
    "np.savetxt(\"qtable_10k_ep.csv\", q_table, delimiter=\",\")"
   ]
  },
  {
   "cell_type": "code",
   "execution_count": 194,
   "id": "92f4f4fd",
   "metadata": {},
   "outputs": [
    {
     "name": "stdout",
     "output_type": "stream",
     "text": [
      "average reward: -4.09\n",
      "average reward: -5.28\n",
      "average reward: -3.87\n"
     ]
    }
   ],
   "source": [
    "# Test\n",
    "avg_reward = train_test(env, q_table, n_episodes = 100, do_train = False)[1]\n",
    "print(f\"average reward: {avg_reward}\")\n",
    "avg_reward = train_test(env, q_table, n_episodes = 100, do_train = False)[1]\n",
    "print(f\"average reward: {avg_reward}\")\n",
    "avg_reward = train_test(env, q_table, n_episodes = 100, do_train = False)[1]\n",
    "print(f\"average reward: {avg_reward}\")"
   ]
  },
  {
   "cell_type": "markdown",
   "id": "bb21a5dd",
   "metadata": {},
   "source": [
    "```\n",
    "q_table[832]) = [-1,-1,-1,-1,0]\n",
    "```\n",
    "\n",
    "In this example, the 832 entry in the q_table means that for state 832, guessing 0, 1, 2, or 3 are all bad guesses.\n",
    "\n",
    "What state is this?\n",
    "```\n",
    "env.get_dict_from_state(832)\n",
    "\n",
    "{'answer0': 0,\n",
    " 'answer1': 1,\n",
    " 'answer2': 2,\n",
    " 'answer3': 3,\n",
    " 'answer4': -1,\n",
    " 'guess0': 0,\n",
    " 'guess1': 0,\n",
    " 'guess2': 0,\n",
    " 'guess3': 0,\n",
    " 'guess4': 0,\n",
    " 'current_position': 4}\n",
    "```\n",
    "\n",
    "It's the state where 0, 1, 2, and 3 have all been correctly guessed in the first 4 spots. Only 4 remains unguessed. Further: you just identified the third number and this is your first guess for the fourth round.\n",
    "\n",
    "So this one example makes sense at least!"
   ]
  },
  {
   "cell_type": "code",
   "execution_count": 195,
   "id": "cca9b16d",
   "metadata": {},
   "outputs": [
    {
     "name": "stdout",
     "output_type": "stream",
     "text": [
      "average reward: -15.96158\n"
     ]
    }
   ],
   "source": [
    "# Train\n",
    "env = NumberGuess3(False)\n",
    "q_table, avg_reward = train_test(env, init_q_table, n_episodes = 50000, do_train = True)\n",
    "print(f\"average reward: {avg_reward}\")"
   ]
  },
  {
   "cell_type": "code",
   "execution_count": 196,
   "id": "09d2140c",
   "metadata": {},
   "outputs": [],
   "source": [
    "np.savetxt(\"qtable_50k_ep.csv\", q_table, delimiter=\",\")"
   ]
  },
  {
   "cell_type": "code",
   "execution_count": 197,
   "id": "02a37ead",
   "metadata": {},
   "outputs": [
    {
     "name": "stdout",
     "output_type": "stream",
     "text": [
      "average reward: -4.2\n",
      "average reward: -4.71\n",
      "average reward: -3.91\n"
     ]
    }
   ],
   "source": [
    "# Test\n",
    "avg_reward = train_test(env, q_table, n_episodes = 100, do_train = False)[1]\n",
    "print(f\"average reward: {avg_reward}\")\n",
    "avg_reward = train_test(env, q_table, n_episodes = 100, do_train = False)[1]\n",
    "print(f\"average reward: {avg_reward}\")\n",
    "avg_reward = train_test(env, q_table, n_episodes = 100, do_train = False)[1]\n",
    "print(f\"average reward: {avg_reward}\")"
   ]
  },
  {
   "cell_type": "markdown",
   "id": "50a60e4d",
   "metadata": {},
   "source": [
    "50k training might be a bit better than 10k, but -3 or -4 feels like the limit; 4 or 5 wrong guesses for every right guess.\n",
    "\n",
    "Let's watch it play"
   ]
  },
  {
   "cell_type": "code",
   "execution_count": 200,
   "id": "38b386fb",
   "metadata": {},
   "outputs": [],
   "source": [
    "env.be_verbose = True"
   ]
  },
  {
   "cell_type": "code",
   "execution_count": 201,
   "id": "837fe43e",
   "metadata": {},
   "outputs": [
    {
     "name": "stdout",
     "output_type": "stream",
     "text": [
      "NumberGuess::reset: hidden answer list: [1, 4, 2, 0, 3]\n",
      "current position: 0/4 | guess:2 | correct answer:1\n",
      "current position: 0/4 | guess:4 | correct answer:1\n",
      "current position: 0/4 | guess:3 | correct answer:1\n",
      "current position: 0/4 | guess:1 | correct answer:1\n",
      "current position: 1/4 | guess:3 | correct answer:4\n",
      "current position: 1/4 | guess:0 | correct answer:4\n",
      "current position: 1/4 | guess:2 | correct answer:4\n",
      "current position: 1/4 | guess:3 | correct answer:4\n",
      "current position: 1/4 | guess:1 | correct answer:4\n",
      "current position: 1/4 | guess:1 | correct answer:4\n",
      "current position: 1/4 | guess:3 | correct answer:4\n",
      "current position: 1/4 | guess:1 | correct answer:4\n",
      "current position: 1/4 | guess:4 | correct answer:4\n",
      "current position: 2/4 | guess:4 | correct answer:2\n",
      "current position: 2/4 | guess:3 | correct answer:2\n",
      "current position: 2/4 | guess:2 | correct answer:2\n",
      "current position: 3/4 | guess:3 | correct answer:0\n",
      "current position: 3/4 | guess:0 | correct answer:0\n",
      "current position: 4/4 | guess:3 | correct answer:3\n",
      "NumberGuess::reset: hidden answer list: [1, 3, 2, 4, 0]\n",
      "current position: 0/4 | guess:2 | correct answer:1\n",
      "current position: 0/4 | guess:4 | correct answer:1\n",
      "current position: 0/4 | guess:3 | correct answer:1\n",
      "current position: 0/4 | guess:2 | correct answer:1\n",
      "current position: 0/4 | guess:1 | correct answer:1\n",
      "current position: 1/4 | guess:3 | correct answer:3\n",
      "current position: 2/4 | guess:4 | correct answer:2\n",
      "current position: 2/4 | guess:0 | correct answer:2\n",
      "current position: 2/4 | guess:2 | correct answer:2\n",
      "current position: 3/4 | guess:0 | correct answer:4\n",
      "current position: 3/4 | guess:4 | correct answer:4\n",
      "current position: 4/4 | guess:0 | correct answer:0\n",
      "NumberGuess::reset: hidden answer list: [2, 3, 4, 1, 0]\n",
      "current position: 0/4 | guess:2 | correct answer:2\n",
      "current position: 1/4 | guess:0 | correct answer:3\n",
      "current position: 1/4 | guess:3 | correct answer:3\n",
      "current position: 2/4 | guess:0 | correct answer:4\n",
      "current position: 2/4 | guess:4 | correct answer:4\n",
      "current position: 3/4 | guess:0 | correct answer:1\n",
      "current position: 3/4 | guess:1 | correct answer:1\n",
      "current position: 4/4 | guess:0 | correct answer:0\n"
     ]
    },
    {
     "data": {
      "text/plain": [
       "-4.0"
      ]
     },
     "execution_count": 201,
     "metadata": {},
     "output_type": "execute_result"
    }
   ],
   "source": [
    "train_test(env, q_table, n_episodes = 3, do_train = False)[1]"
   ]
  },
  {
   "cell_type": "markdown",
   "id": "7e75ae47",
   "metadata": {},
   "source": [
    "OK, nevermind, it's horrible. I wonder why??"
   ]
  },
  {
   "cell_type": "code",
   "execution_count": 202,
   "id": "2b9f8b4c",
   "metadata": {},
   "outputs": [
    {
     "name": "stdout",
     "output_type": "stream",
     "text": [
      "average reward: -15.993973\n"
     ]
    }
   ],
   "source": [
    "# Train\n",
    "env = NumberGuess3(False)\n",
    "q_table, avg_reward = train_test(env, init_q_table, n_episodes = 1_000_000, do_train = True)\n",
    "print(f\"average reward: {avg_reward}\")"
   ]
  },
  {
   "cell_type": "code",
   "execution_count": 203,
   "id": "cdb43684",
   "metadata": {},
   "outputs": [],
   "source": [
    "np.savetxt(\"qtable_1M_ep.csv\", q_table, delimiter=\",\")"
   ]
  },
  {
   "cell_type": "code",
   "execution_count": null,
   "id": "390640dc",
   "metadata": {},
   "outputs": [],
   "source": [
    "# Test\n",
    "avg_reward = train_test(env, q_table, n_episodes = 100, do_train = False)[1]\n",
    "print(f\"average reward: {avg_reward}\")\n",
    "avg_reward = train_test(env, q_table, n_episodes = 100, do_train = False)[1]\n",
    "print(f\"average reward: {avg_reward}\")\n",
    "avg_reward = train_test(env, q_table, n_episodes = 100, do_train = False)[1]\n",
    "print(f\"average reward: {avg_reward}\")"
   ]
  }
 ],
 "metadata": {
  "kernelspec": {
   "display_name": "Python 3 (ipykernel)",
   "language": "python",
   "name": "python3"
  },
  "language_info": {
   "codemirror_mode": {
    "name": "ipython",
    "version": 3
   },
   "file_extension": ".py",
   "mimetype": "text/x-python",
   "name": "python",
   "nbconvert_exporter": "python",
   "pygments_lexer": "ipython3",
   "version": "3.10.8"
  }
 },
 "nbformat": 4,
 "nbformat_minor": 5
}
