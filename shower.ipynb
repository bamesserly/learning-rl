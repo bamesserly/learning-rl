{
 "cells": [
  {
   "cell_type": "code",
   "execution_count": 1,
   "id": "d75463bd",
   "metadata": {},
   "outputs": [],
   "source": [
    "%load_ext autoreload\n",
    "%autoreload 2"
   ]
  },
  {
   "cell_type": "markdown",
   "id": "07524bed",
   "metadata": {},
   "source": [
    "# Shower Temperature Beginner Reinforcement Learning Example\n",
    "\n",
    "This script implements the Bellman equation to train a Q table and test it."
   ]
  },
  {
   "cell_type": "markdown",
   "id": "a46cbf14",
   "metadata": {},
   "source": [
    "# Table of contents\n",
    "0. [Intro](#intro)\n",
    "1. [Explore Shower Environment](#environment)\n",
    "2. [Update Q-Table Function](#update_q_table)\n",
    "3. [Train and Test Function](#train_and_test)\n",
    "4. [Do the training and testing](#run)\n",
    "5. [Visualize and Optimize Learning](#visualize_and_optimize)\n",
    "    1. [How Many Training Episodes is Good Enough?](#episodes)\n",
    "    2. [Find Optimal Training Parameters with a Grid Search](#grid_search)"
   ]
  },
  {
   "cell_type": "markdown",
   "id": "1218d672",
   "metadata": {},
   "source": [
    "## 0. Intro <a name=\"intro\"></a>\n",
    "The \"game\" that this environment implements is that you're taking a shower and you want the temperature to stay around a nice temperature.\n",
    "\n",
    "For each second of a shower of a certain length, you can move the temperature up or down one degree.\n",
    "\n",
    "You are rewarded after each second if your shower stays within a temperature sweet spot. You're punished if you're outside that sweet spot."
   ]
  },
  {
   "cell_type": "markdown",
   "id": "594397c8",
   "metadata": {},
   "source": [
    "## 1. Explore Shower Environment <a name=\"environment\"></a>\n",
    "This environment resembles the openai-gym or google's TF-Agents environments with `step`, `render`, and `reset` functions. In fact this environment inherits from open-ai gym's `Env` class, though it doesn't currently use any of its parent's features.\n",
    "\n",
    "Here, sample the observation and actions spaces and run a few showers with random decision making."
   ]
  },
  {
   "cell_type": "code",
   "execution_count": 2,
   "id": "2c6a1973",
   "metadata": {},
   "outputs": [],
   "source": [
    "from shower_environment import Shower"
   ]
  },
  {
   "cell_type": "code",
   "execution_count": 3,
   "id": "6bd8e615",
   "metadata": {},
   "outputs": [
    {
     "name": "stdout",
     "output_type": "stream",
     "text": [
      "Random valid temperature: 36\n",
      "Random valid temperature change: 0\n",
      "\n",
      "A few random showers:\n",
      "Episode: 1 Score: -60\n",
      "Episode: 2 Score: 24\n",
      "Episode: 3 Score: -34\n",
      "Episode: 4 Score: -58\n",
      "Episode: 5 Score: -54\n"
     ]
    }
   ],
   "source": [
    "env = Shower()\n",
    "\n",
    "print(\"Random valid temperature:\", env.observation_space.sample())\n",
    "print(\"Random valid temperature change:\", env.action_space.sample()-1)\n",
    "\n",
    "print(\"\\nA few random showers:\")\n",
    "episodes = 5\n",
    "for episode in range(1, episodes+1):\n",
    "    state = env.reset()\n",
    "    done = False\n",
    "    score = 0 \n",
    "    \n",
    "    while not done:\n",
    "        #env.render()\n",
    "        action = env.action_space.sample()\n",
    "        n_state, reward, done, info = env.step(action)\n",
    "        score+=reward\n",
    "    print(f\"Episode: {episode} Score: {score}\")"
   ]
  },
  {
   "cell_type": "markdown",
   "id": "8dc3944b",
   "metadata": {},
   "source": [
    "## 2. Update Q-table function <a name=\"update_q_table\"></a>\n",
    "This function will be called during training to populate the Q-table based on the Bellman equation. The Q-table will be then used during testing to make decisions about how to change the temperature at each shower step.\n",
    "Arguments:\n",
    "* a starting state and a finishing state (i.e. just the temperature at step n and the temperature at step n+1)\n",
    "* the action that took us from temperature at step n to temperature at step n+1 (i.e. up 1 degree, down 1 degree, up 0 degrees)\n",
    "* and the reward assigned to the action/final state\n",
    "\n",
    "And here's wikipedia on the two parameters, the learning (alpha) and discount (gamma) rates:\n",
    "\n",
    "> **Learning rate** -- The learning rate or step size determines to what extent newly acquired information overrides old information. A factor of 0 makes the agent learn nothing (exclusively exploiting prior knowledge), while a factor of 1 makes the agent consider only the most recent information (ignoring prior knowledge to explore possibilities). **In fully deterministic environments, a learning rate of alpha = 1 is optimal.** When the problem is stochastic, the algorithm converges under some technical conditions on the learning rate that require it to decrease to zero. In practice, often a constant learning rate is used...\n",
    "\n",
    "> **Discount factor** -- The discount factor determines the importance of future rewards. A factor of 0 will make the agent \"myopic\" (or short-sighted) by only considering current rewards ... while a factor approaching 1 will make it strive for a long-term high reward. If the discount factor meets or exceeds 1, the action values may diverge."
   ]
  },
  {
   "cell_type": "code",
   "execution_count": 4,
   "id": "a5665a77",
   "metadata": {},
   "outputs": [],
   "source": [
    "import numpy as np"
   ]
  },
  {
   "cell_type": "code",
   "execution_count": 5,
   "id": "65c0d5b7",
   "metadata": {},
   "outputs": [],
   "source": [
    "def update_q_table(params, q_table, state_i, state_f, action, step_reward):\n",
    "    try:\n",
    "        # note about 2d np array access:\n",
    "        # q_table[state_i] accesses the state_i-th row, which is an array with\n",
    "        # length equal to number of actions.\n",
    "        # q_table[state_i, action] access the action-th element of the state_ith\n",
    "        # array.\n",
    "        old_q_value = q_table[state_i, action]\n",
    "    except IndexError:\n",
    "        print(\"ERROR with q_table\")\n",
    "        print(q_table)\n",
    "        print(state_i, action)\n",
    "        return None\n",
    "    \n",
    "    # max q value given the state after this temp change\n",
    "    next_max = np.max(q_table[state_f])\n",
    "    q_target = step_reward + params['gamma'] * next_max\n",
    "    q_delta = q_target - old_q_value\n",
    "    q_table[state_i, action] = old_q_value + params['alpha'] * q_delta\n",
    "    \n",
    "    return q_table"
   ]
  },
  {
   "cell_type": "markdown",
   "id": "3d1a9ee0",
   "metadata": {},
   "source": [
    "## 3. Train and test function <a name=\"train_and_test\"></a>\n",
    "This function simulates `n_episodes` of showers. In `do_train` mode, it uses random decision making and populates the Q-table. In test mode, it uses a given Q-table to make decisions and does not update the Q-table.\n",
    "\n",
    "Return the Q-table that was filled/used and the average reward over all the showers."
   ]
  },
  {
   "cell_type": "code",
   "execution_count": 6,
   "id": "3e39ac0f",
   "metadata": {},
   "outputs": [],
   "source": [
    "# alpha - learning rate\n",
    "# gamma - discount rate\n",
    "# epsilon - exploration threshold (not currently used)\n",
    "default_params = {'alpha' : 0.9, 'gamma' : 1., 'epsilon' : 0.}"
   ]
  },
  {
   "cell_type": "code",
   "execution_count": 7,
   "id": "87fcb43e",
   "metadata": {},
   "outputs": [],
   "source": [
    "# loop showers\n",
    "def train_test(env, in_q_table, n_episodes = 200, do_train = True, params = default_params):\n",
    "    q_table = in_q_table.copy()\n",
    "    total_reward = 0\n",
    "    for i_shower in range(n_episodes):\n",
    "        done = False\n",
    "        env.reset()\n",
    "        state_i = env.state\n",
    "        shower_reward = 0\n",
    "        #print(i_shower)\n",
    "        while not done:\n",
    "            # choose action\n",
    "            action = env.action_space.sample() if do_train else np.argmax(q_table[state_i])\n",
    "\n",
    "            # take a step\n",
    "            state_f, reward, done, info = env.step(action)\n",
    "            #print(\"  \", env.shower_time, state, reward, done)\n",
    "            try:\n",
    "                assert state_f in env.observation_space\n",
    "            except AssertionError:\n",
    "                print(\"Invalid state obtained\", state_f, i_shower, env.shower_time, action)\n",
    "                break\n",
    "                                        \n",
    "            # update q table\n",
    "            if do_train:\n",
    "                q_table = update_q_table(params, q_table, state_i, state_f, action, reward)\n",
    "\n",
    "            # increment reward\n",
    "            shower_reward += reward\n",
    "\n",
    "            state_i = state_f\n",
    "            \n",
    "        #print(\"  Shower reward:\", shower_reward)\n",
    "        total_reward += shower_reward\n",
    "\n",
    "    #np.savetxt(\"qtable.csv\", q_table, delimiter=\",\")\n",
    "    avg_reward = total_reward / n_episodes\n",
    "    return q_table, avg_reward"
   ]
  },
  {
   "cell_type": "markdown",
   "id": "91c8c83d",
   "metadata": {},
   "source": [
    "## 4. Do the Training and Testing <a name=\"run\"></a>"
   ]
  },
  {
   "cell_type": "code",
   "execution_count": 8,
   "id": "e9ac6e28",
   "metadata": {
    "scrolled": true
   },
   "outputs": [],
   "source": [
    "# initial q table full of zeroes\n",
    "init_q_table = np.zeros([env.observation_space.n, env.action_space.n])"
   ]
  },
  {
   "cell_type": "code",
   "execution_count": 9,
   "id": "88dda035",
   "metadata": {},
   "outputs": [
    {
     "name": "stdout",
     "output_type": "stream",
     "text": [
      "average reward: -20.0\n"
     ]
    }
   ],
   "source": [
    "# Train\n",
    "env = Shower()\n",
    "q_table, avg_reward = train_test(env, init_q_table, n_episodes = 2, do_train = True)\n",
    "print(f\"average reward: {avg_reward}\")"
   ]
  },
  {
   "cell_type": "code",
   "execution_count": 10,
   "id": "029e1816",
   "metadata": {},
   "outputs": [
    {
     "name": "stdout",
     "output_type": "stream",
     "text": [
      "average reward: 15.14\n",
      "average reward: 16.92\n",
      "average reward: 17.34\n"
     ]
    }
   ],
   "source": [
    "# Test\n",
    "avg_reward = train_test(env, q_table, n_episodes = 100, do_train = False)[1]\n",
    "print(f\"average reward: {avg_reward}\")\n",
    "avg_reward = train_test(env, q_table, n_episodes = 100, do_train = False)[1]\n",
    "print(f\"average reward: {avg_reward}\")\n",
    "avg_reward = train_test(env, q_table, n_episodes = 100, do_train = False)[1]\n",
    "print(f\"average reward: {avg_reward}\")"
   ]
  },
  {
   "cell_type": "markdown",
   "id": "98b960d4",
   "metadata": {},
   "source": [
    "## 5. Visualize and optimize some parameters <a name=\"visualize_and_optimize\"></a>"
   ]
  },
  {
   "cell_type": "markdown",
   "id": "5a8c06e3",
   "metadata": {},
   "source": [
    "### A. How Many Training Episodes is Good Enough? <a name=\"episodes\"></a>"
   ]
  },
  {
   "cell_type": "code",
   "execution_count": 11,
   "id": "1f566eab",
   "metadata": {},
   "outputs": [
    {
     "name": "stdout",
     "output_type": "stream",
     "text": [
      "10 training episodes – average reward: 4.7\n",
      "20 training episodes – average reward: 52.72\n",
      "30 training episodes – average reward: 49.98\n",
      "40 training episodes – average reward: 55.08\n",
      "50 training episodes – average reward: 54.48\n",
      "60 training episodes – average reward: 53.84\n",
      "70 training episodes – average reward: 54.52\n",
      "80 training episodes – average reward: 54.82\n",
      "90 training episodes – average reward: 55.38\n"
     ]
    }
   ],
   "source": [
    "episodes = range(2,100,2)\n",
    "rewards = []\n",
    "for e in episodes:\n",
    "    env = Shower()\n",
    "    q_table = train_test(env, init_q_table, n_episodes = e, do_train = True)[0]\n",
    "    avg_reward = train_test(env, q_table, n_episodes = 100, do_train = False)[1]\n",
    "    if e % 10 == 0: \n",
    "        print(f\"{e} training episodes – average reward: {avg_reward}\")\n",
    "    rewards.append(avg_reward)"
   ]
  },
  {
   "cell_type": "code",
   "execution_count": 12,
   "id": "d5effd36",
   "metadata": {},
   "outputs": [],
   "source": [
    "import matplotlib.pyplot as plt"
   ]
  },
  {
   "cell_type": "code",
   "execution_count": 13,
   "id": "a37561bb",
   "metadata": {},
   "outputs": [
    {
     "data": {
      "image/png": "[encoded data removed]",
      "text/plain": [
       "<Figure size 800x400 with 1 Axes>"
      ]
     },
     "metadata": {},
     "output_type": "display_data"
    }
   ],
   "source": [
    "plt.style.use('_mpl-gallery')\n",
    "\n",
    "fig, ax = plt.subplots(figsize=(8,4))\n",
    "\n",
    "ax.scatter(episodes, rewards)\n",
    "\n",
    "plt.ylabel('average reward over 100 test showers')\n",
    "plt.xlabel('training episodes')\n",
    "\n",
    "plt.show()"
   ]
  },
  {
   "cell_type": "markdown",
   "id": "9a1a7898",
   "metadata": {},
   "source": [
    "### B. Find Optimal Training Parameters with a Grid Search <a name=\"grid_search\"></a>\n",
    "Search a 3D parameter space learning rate x discount rate x n training episodes."
   ]
  },
  {
   "cell_type": "code",
   "execution_count": 14,
   "id": "81cb76e4",
   "metadata": {},
   "outputs": [],
   "source": [
    "from sklearn.model_selection import ParameterGrid\n",
    "from collections import defaultdict"
   ]
  },
  {
   "cell_type": "markdown",
   "id": "e62704a0",
   "metadata": {},
   "source": [
    "#### Do the grid search"
   ]
  },
  {
   "cell_type": "code",
   "execution_count": 15,
   "id": "902e73d1",
   "metadata": {},
   "outputs": [],
   "source": [
    "# 20x10x10 = 2000 trainings, many of them short\n",
    "param_grid = ParameterGrid({'alpha': np.arange(0., 1., 0.1).tolist(), \n",
    "                            'gamma': np.arange(0., 1., 0.1).tolist(), \n",
    "                            'n_episodes' : range(10,100,10)})\n",
    "alphas = defaultdict(list)\n",
    "gammas = defaultdict(list)\n",
    "rewards = defaultdict(list)\n",
    "for p in list(param_grid):\n",
    "    env = Shower()\n",
    "    q_table = train_test(env, init_q_table, n_episodes = p['n_episodes'], do_train = True, params=p)[0]\n",
    "    avg_reward = train_test(env, q_table, n_episodes = 100, do_train = False)[1]\n",
    "    alphas[p['n_episodes']].append(p['alpha'])\n",
    "    gammas[p['n_episodes']].append(p['gamma'])\n",
    "    rewards[p['n_episodes']].append(avg_reward)        \n",
    "    #print(f\"{e} training episodes – average reward: {avg_reward}\")"
   ]
  },
  {
   "cell_type": "markdown",
   "id": "8d6cad9d",
   "metadata": {},
   "source": [
    "#### plot rewards vs parameters\n",
    "with a slidebar for the number of trainings"
   ]
  },
  {
   "cell_type": "code",
   "execution_count": 16,
   "id": "220294d1",
   "metadata": {},
   "outputs": [],
   "source": [
    "import math\n",
    "from ipywidgets import interact,widgets,fixed"
   ]
  },
  {
   "cell_type": "code",
   "execution_count": 17,
   "id": "4c4cce80",
   "metadata": {},
   "outputs": [
    {
     "data": {
      "application/vnd.jupyter.widget-view+json": {
       "model_id": "d03f8ab2041e42c09dde4ab8bf5546b4",
       "version_major": 2,
       "version_minor": 0
      },
      "text/plain": [
       "interactive(children=(SelectionSlider(description='train length', options=(10, 20, 30, 40, 50, 60, 70, 80, 90)…"
      ]
     },
     "metadata": {},
     "output_type": "display_data"
    }
   ],
   "source": [
    "def plot_hyperparams_grid(n_episodes, data_x, data_y, data_z):\n",
    "    f, ax = plt.subplots(figsize=(8,6))\n",
    "    \n",
    "    graph_x = data_x[n_episodes]\n",
    "    graph_y = data_y[n_episodes]\n",
    "    graph_z = data_z[n_episodes]\n",
    "    \n",
    "    # marker sizes - 1 invisible, 10 very small, 100 small, 5000 very big,  \n",
    "    size_list=np.array(graph_z)\n",
    "    size_list = [5e-12*(i+60)**7 for i in size_list]\n",
    "    \n",
    "    points=ax.scatter(graph_x, graph_y, c=graph_z, cmap='viridis',vmin=0,vmax=60,marker='o',s=size_list)\n",
    "    cbar=plt.colorbar(points)\n",
    "    cbar.set_label(\"Rewards\", fontsize=14)\n",
    "    ax.set_xlabel(r'$\\alpha$ - learning rate',fontsize=14)\n",
    "    ax.set_ylabel(r'$\\gamma$ - discount rate',fontsize=14)\n",
    "    ax.set_yticks(np.arange(0,1,.1))\n",
    "    ax.set_xticks(np.arange(0,1,.1))\n",
    "    ax.set_title(f\"Parameter space at {n_episodes} training episodes\")\n",
    "    plt.show()\n",
    "\n",
    "interact(\n",
    "        plot_hyperparams_grid,\n",
    "        n_episodes = widgets.SelectionSlider(description='train length', options = list(alphas.keys())), \n",
    "        data_x = fixed(alphas), \n",
    "        data_y = fixed(gammas),\n",
    "        data_z = fixed(rewards)\n",
    "        );"
   ]
  },
  {
   "cell_type": "markdown",
   "id": "4ff33595",
   "metadata": {},
   "source": [
    "#### And what's the best training parameter pair given each training length?"
   ]
  },
  {
   "cell_type": "code",
   "execution_count": 18,
   "id": "6a0e20fa",
   "metadata": {},
   "outputs": [
    {
     "name": "stdout",
     "output_type": "stream",
     "text": [
      "n_training episodes | max reward | alpha | gamma\n",
      "                 10 |      40.02 |   0.8 |   0.6\n",
      "                 20 |      54.76 |   0.9 |   0.9\n",
      "                 30 |      55.46 |   0.8 |   0.9\n",
      "                 40 |      54.88 |   0.7 |   0.9\n",
      "                 50 |      55.28 |   0.8 |   0.9\n",
      "                 60 |      55.54 |   0.4 |   0.9\n",
      "                 70 |      55.52 |   0.9 |   0.3\n",
      "                 80 |      56.12 |   0.9 |   0.2\n",
      "                 90 |      55.38 |   0.6 |   0.7\n"
     ]
    }
   ],
   "source": [
    "print(\"n_training episodes | max reward | alpha | gamma\")\n",
    "for training, reward in rewards.items():\n",
    "    max_reward = max(reward)\n",
    "    alpha = alphas[training][reward.index(max(reward))]\n",
    "    gamma = gammas[training][reward.index(max(reward))]\n",
    "    print(f'{training:19} | {max_reward:10.2f} | {alpha:5.1f} | {gamma:5.1f}')"
   ]
  },
  {
   "cell_type": "markdown",
   "id": "f587eed7",
   "metadata": {},
   "source": [
    "#### Seems like some of these are statistical flukes.  alpha, gamma = 1,1 clearly performs best across all n_trainings"
   ]
  }
 ],
 "metadata": {
  "jupytext": {
   "cell_metadata_filter": "-all",
   "executable": "/usr/bin/python",
   "formats": "ipynb,py",
   "main_language": "python"
  },
  "kernelspec": {
   "display_name": "Python 3 (ipykernel)",
   "language": "python",
   "name": "python3"
  },
  "language_info": {
   "codemirror_mode": {
    "name": "ipython",
    "version": 3
   },
   "file_extension": ".py",
   "mimetype": "text/x-python",
   "name": "python",
   "nbconvert_exporter": "python",
   "pygments_lexer": "ipython3",
   "version": "3.10.8"
  }
 },
 "nbformat": 4,
 "nbformat_minor": 5
}
